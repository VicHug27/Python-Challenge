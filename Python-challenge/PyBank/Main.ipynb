{
 "cells": [
  {
   "cell_type": "code",
   "execution_count": 1,
   "metadata": {},
   "outputs": [],
   "source": [
    "#Import Dependencies\n",
    "import os\n",
    "import csv"
   ]
  },
  {
   "cell_type": "code",
   "execution_count": 2,
   "metadata": {},
   "outputs": [],
   "source": [
    "# Open CSV File\n",
    "budget_data = os.path.join(\"Resources/budget_data.csv\")\n",
    "\n",
    "with open(budget_data) as csv_file:\n",
    "    csv_reader = csv.reader(csv_file, delimiter = ',')\n",
    "    csv_header = next(csv_file)\n",
    "    \n",
    "# create empty lists for time period and Profit/Loss)\n",
    "    month = []\n",
    "    pl = []\n",
    "    \n",
    "# Go through each row to append values \n",
    "    for row in csv_reader:\n",
    "        month.append(row[0])\n",
    "        pl.append(int(row[1]))\n",
    "        \n",
    "# Calculate number of time periods and total Profit/Loss\n",
    "    num_month = len(month)\n",
    "    totalpl = sum(pl)\n",
    "\n",
    "# Create list to add the values of each variance from month to month\n",
    "    change = []\n",
    "    x = 0\n",
    "    \n",
    "    for i in range(0,num_month):\n",
    "        if i == 0:\n",
    "            pass\n",
    "        else:\n",
    "            change.append(int(pl[i])-int(pl[i-1]))\n"
   ]
  },
  {
   "cell_type": "code",
   "execution_count": 3,
   "metadata": {},
   "outputs": [],
   "source": [
    "# Save Variable for avg, max, min\n",
    "avg_change = round(sum(change)/len(change),2)\n",
    "max_change = max(change)\n",
    "min_change = min(change)\n",
    "max_month = month[change.index(max_change)]\n",
    "min_month = month[change.index(min_change)]"
   ]
  },
  {
   "cell_type": "code",
   "execution_count": 4,
   "metadata": {},
   "outputs": [],
   "source": [
    "# Print and output to txt\n",
    "summarydata= (\n",
    "    f\"Financial Analysis\\n\"\n",
    "    f\"----------------------------\\n\"\n",
    "    f\"Total Months: {num_month}\\n\"\n",
    "    f\"Total: ${totalpl}\\n\"\n",
    "    f\"Average Change: ${avg_change}\\n\"\n",
    "    f\"Greatest Increase Month in Profits: {max_month}\\n\"\n",
    "    f\"Greatest Increase in Profits: (${max_change})\\n\"\n",
    "    f\"Greatest Decrease Month in Profits: {min_month}\\n\"\n",
    "    f\"Greatest Decrease in Profits: (${min_change})\\n\")\n"
   ]
  },
  {
   "cell_type": "code",
   "execution_count": 5,
   "metadata": {},
   "outputs": [
    {
     "name": "stdout",
     "output_type": "stream",
     "text": [
      "Financial Analysis\n",
      "----------------------------\n",
      "Total Months: 86\n",
      "Total: $38382578\n",
      "Average Change: $-2315.12\n",
      "Greatest Increase Month in Profits: Jan-2012\n",
      "Greatest Increase in Profits: ($1926159)\n",
      "Greatest Decrease Month in Profits: Aug-2013\n",
      "Greatest Decrease in Profits: ($-2196167)\n",
      "\n"
     ]
    }
   ],
   "source": [
    "#Print analysis to terminal and export txt file\n",
    "print(summarydata)"
   ]
  },
  {
   "cell_type": "code",
   "execution_count": 6,
   "metadata": {},
   "outputs": [],
   "source": [
    "#write to txt file\n",
    "analysisdata = os.path.join(\"analysis/budget_analysis.txt\")"
   ]
  },
  {
   "cell_type": "code",
   "execution_count": 7,
   "metadata": {},
   "outputs": [],
   "source": [
    "#Export\n",
    "with open(analysisdata, \"w\") as txt_file:\n",
    "    txt_file.write(summarydata)\n",
    "    "
   ]
  },
  {
   "cell_type": "code",
   "execution_count": null,
   "metadata": {},
   "outputs": [],
   "source": []
  }
 ],
 "metadata": {
  "kernelspec": {
   "display_name": "Python 3",
   "language": "python",
   "name": "python3"
  },
  "language_info": {
   "codemirror_mode": {
    "name": "ipython",
    "version": 3
   },
   "file_extension": ".py",
   "mimetype": "text/x-python",
   "name": "python",
   "nbconvert_exporter": "python",
   "pygments_lexer": "ipython3",
   "version": "3.8.5"
  }
 },
 "nbformat": 4,
 "nbformat_minor": 4
}
