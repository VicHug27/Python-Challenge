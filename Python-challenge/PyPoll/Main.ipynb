{
 "cells": [
  {
   "cell_type": "code",
   "execution_count": 1,
   "metadata": {},
   "outputs": [],
   "source": [
    "# Import Dependencies\n",
    "import os\n",
    "import csv\n",
    "\n",
    "#Set path\n",
    "csvpath = os.path.join('Resources/election_data.csv')"
   ]
  },
  {
   "cell_type": "code",
   "execution_count": 2,
   "metadata": {},
   "outputs": [],
   "source": [
    "# Variables\n",
    "total_votes = 0\n",
    "khan_votes = 0\n",
    "correy_votes = 0\n",
    "li_votes = 0\n",
    "otooley_votes = 0"
   ]
  },
  {
   "cell_type": "code",
   "execution_count": 3,
   "metadata": {},
   "outputs": [],
   "source": [
    "# Open & Read CSV File\n",
    "with open(csvpath) as csvfile:\n",
    "\n",
    "    # CSV Reader Specifies Delimiter & Variable That Holds Contents\n",
    "    csvreader = csv.reader(csvfile, delimiter=',')\n",
    "    \n",
    "    # Read The Header Row First (Skip This Step If There Is No Header)\n",
    "    csv_header = next(csvfile)\n",
    "\n",
    "    # Read Each Row Of Data After The Header\n",
    "    for row in csvreader:\n",
    "        \n",
    "        # Calculate Total Number Of Votes Cast\n",
    "        total_votes += 1\n",
    "        \n",
    "        # Calculate Total Number Of Votes Each Candidate Won\n",
    "        if (row[2] == \"Khan\"):\n",
    "            khan_votes += 1\n",
    "        elif (row[2] == \"Correy\"):\n",
    "            correy_votes += 1\n",
    "        elif (row[2] == \"Li\"):\n",
    "            li_votes += 1\n",
    "        else:\n",
    "            otooley_votes += 1"
   ]
  },
  {
   "cell_type": "code",
   "execution_count": 4,
   "metadata": {},
   "outputs": [],
   "source": [
    "# Calculate Percentage Of Votes Each Candidate Won\n",
    "kahn_percent = khan_votes / total_votes\n",
    "correy_percent = correy_votes / total_votes\n",
    "li_percent = li_votes / total_votes\n",
    "otooley_percent = otooley_votes / total_votes\n",
    "\n",
    "# Calculate Winner Of The Election Based On Popular Vote\n",
    "winner = max(khan_votes, correy_votes, li_votes, otooley_votes)\n",
    "\n",
    "if winner == khan_votes:\n",
    "    winner_name = \"Khan\"\n",
    "elif winner == correy_votes:\n",
    "    winner_name = \"Correy\"\n",
    "elif winner == li_votes:\n",
    "    winner_name = \"Li\"\n",
    "else:\n",
    "    winner_name = \"O'Tooley\" "
   ]
  },
  {
   "cell_type": "code",
   "execution_count": 11,
   "metadata": {},
   "outputs": [
    {
     "name": "stdout",
     "output_type": "stream",
     "text": [
      "Election Results\n",
      "---------------------------\n",
      "Total Votes: 3521001\n",
      "---------------------------\n",
      "Kahn: 63.000%(2218231)\n",
      "Correy: 20.000%(704200)\n",
      "Li: 14.000%(492940)\n",
      "O'Tooley: 3.000%(105630)\n",
      "---------------------------\n",
      "Winner: Khan\n",
      "---------------------------\n",
      "\n"
     ]
    }
   ],
   "source": [
    "# Print Analysis\n",
    "summarydata= (\n",
    "f\"Election Results\\n\"\n",
    "f\"---------------------------\\n\"\n",
    "f\"Total Votes: {total_votes}\\n\"\n",
    "f\"---------------------------\\n\"\n",
    "f\"Kahn: {kahn_percent:.3%}({khan_votes})\\n\"\n",
    "f\"Correy: {correy_percent:.3%}({correy_votes})\\n\"\n",
    "f\"Li: {li_percent:.3%}({li_votes})\\n\"\n",
    "f\"O'Tooley: {otooley_percent:.3%}({otooley_votes})\\n\"\n",
    "f\"---------------------------\\n\"\n",
    "f\"Winner: {winner_name}\\n\"\n",
    "f\"---------------------------\\n\")\n",
    "print(summarydata)"
   ]
  },
  {
   "cell_type": "code",
   "execution_count": 12,
   "metadata": {},
   "outputs": [],
   "source": [
    "#write to txt file\n",
    "analysisdata = os.path.join(\"analysis/electiondata.txt\")\n",
    "\n",
    "#Export\n",
    "with open(analysisdata, \"w\") as txt_file:\n",
    "    txt_file.write(summarydata)\n",
    "    "
   ]
  },
  {
   "cell_type": "code",
   "execution_count": null,
   "metadata": {},
   "outputs": [],
   "source": []
  }
 ],
 "metadata": {
  "kernelspec": {
   "display_name": "Python 3",
   "language": "python",
   "name": "python3"
  },
  "language_info": {
   "codemirror_mode": {
    "name": "ipython",
    "version": 3
   },
   "file_extension": ".py",
   "mimetype": "text/x-python",
   "name": "python",
   "nbconvert_exporter": "python",
   "pygments_lexer": "ipython3",
   "version": "3.8.5"
  }
 },
 "nbformat": 4,
 "nbformat_minor": 4
}
